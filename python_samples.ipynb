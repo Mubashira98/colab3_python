{
  "nbformat": 4,
  "nbformat_minor": 0,
  "metadata": {
    "colab": {
      "provenance": [],
      "toc_visible": true
    },
    "kernelspec": {
      "name": "python3",
      "display_name": "Python 3"
    },
    "language_info": {
      "name": "python"
    }
  },
  "cells": [
    {
      "cell_type": "code",
      "execution_count": null,
      "metadata": {
        "colab": {
          "base_uri": "https://localhost:8080/"
        },
        "id": "c593Hh6yIvs_",
        "outputId": "b34d3a3a-d65b-4f36-b2a1-79110fd186cd"
      },
      "outputs": [
        {
          "output_type": "stream",
          "name": "stdout",
          "text": [
            "This is s string\n"
          ]
        }
      ],
      "source": [
        "s=\"this IS s string\"\n",
        "print(s.capitalize())"
      ]
    },
    {
      "cell_type": "code",
      "source": [
        "def print_formatted(number):\n",
        "    # your code goes here\n",
        "    l=len(bin(number))-2\n",
        "    print(l)\n",
        "    for i in range(1,number+1):\n",
        "      \n",
        "      print(oct(i).replace(\"0o\",\"\").rjust(l,\" \"),end=\" \")\n",
        "      print(hex(i).replace(\"0x\",\"\").upper().rjust(l,\" \"),end=\" \")\n",
        "      print(bin(i).replace(\"0b\",\"\").rjust(l,\" \"))\n",
        "    \n",
        "        \n",
        "\n",
        "if __name__ == '__main__':\n",
        "    n = int(input())\n",
        "    print_formatted(n)"
      ],
      "metadata": {
        "colab": {
          "base_uri": "https://localhost:8080/"
        },
        "id": "6Rl7bGIlMLve",
        "outputId": "def26402-98b3-4e0d-eb2b-3f40ece19eac"
      },
      "execution_count": null,
      "outputs": [
        {
          "output_type": "stream",
          "name": "stdout",
          "text": [
            "17\n",
            "5\n",
            "    1     1     1\n",
            "    2     2    10\n",
            "    3     3    11\n",
            "    4     4   100\n",
            "    5     5   101\n",
            "    6     6   110\n",
            "    7     7   111\n",
            "   10     8  1000\n",
            "   11     9  1001\n",
            "   12     A  1010\n",
            "   13     B  1011\n",
            "   14     C  1100\n",
            "   15     D  1101\n",
            "   16     E  1110\n",
            "   17     F  1111\n",
            "   20    10 10000\n",
            "   21    11 10001\n"
          ]
        }
      ]
    },
    {
      "cell_type": "code",
      "source": [
        "l1=[\"apple\",\"kiwi\",\"banana\",\"grapes\",\"papaya\",\"cherry\"]\n",
        "l2=[]\n",
        "for x in l1:\n",
        "  if \"e\" in x:\n",
        "    l2.append(x)\n",
        "print(l1)\n",
        "print(l2)"
      ],
      "metadata": {
        "colab": {
          "base_uri": "https://localhost:8080/"
        },
        "id": "MJ30vGLUf4r1",
        "outputId": "4482a34b-443b-499e-d5ac-4f78669d75e2"
      },
      "execution_count": null,
      "outputs": [
        {
          "output_type": "stream",
          "name": "stdout",
          "text": [
            "['apple', 'kiwi', 'banana', 'grapes', 'papaya', 'cherry']\n",
            "['apple', 'grapes', 'cherry']\n"
          ]
        }
      ]
    },
    {
      "cell_type": "code",
      "source": [
        "# list comprehension\n",
        "l1=[\"apple\",\"kiwi\",\"banana\",\"grapes\",\"papaya\",\"cherry\"]\n",
        "l2=[x for x in l1 if \"e\" in x]\n",
        "print(l2)"
      ],
      "metadata": {
        "colab": {
          "base_uri": "https://localhost:8080/"
        },
        "id": "xHQ1ue0hgo-l",
        "outputId": "5ec9fa2f-177a-4116-c014-2ff134fe764b"
      },
      "execution_count": null,
      "outputs": [
        {
          "output_type": "stream",
          "name": "stdout",
          "text": [
            "['apple', 'grapes', 'cherry']\n"
          ]
        }
      ]
    },
    {
      "cell_type": "code",
      "source": [
        "list=[]\n",
        "list2=[]\n",
        "for x in range(3):\n",
        "  for y in range(3):\n",
        "    list=[x,y]\n",
        "    list2.append(list)\n",
        "print(list2)\n"
      ],
      "metadata": {
        "colab": {
          "base_uri": "https://localhost:8080/"
        },
        "id": "hc5RB1Wyq-fl",
        "outputId": "47664294-d345-42b8-9550-cc0437a84d88"
      },
      "execution_count": null,
      "outputs": [
        {
          "output_type": "stream",
          "name": "stdout",
          "text": [
            "[[0, 0], [0, 1], [0, 2], [1, 0], [1, 1], [1, 2], [2, 0], [2, 1], [2, 2]]\n"
          ]
        }
      ]
    },
    {
      "cell_type": "code",
      "source": [
        "matrix=[]\n",
        "for i in range(5):\n",
        "  matrix.append([])\n",
        "  for j in range(5):\n",
        "    matrix[i].append(j)\n",
        "print(matrix)"
      ],
      "metadata": {
        "colab": {
          "base_uri": "https://localhost:8080/"
        },
        "id": "nwTq2M5KuzeO",
        "outputId": "e90d5605-e288-47b2-c729-7f8c31c1573b"
      },
      "execution_count": null,
      "outputs": [
        {
          "output_type": "stream",
          "name": "stdout",
          "text": [
            "[[0, 1, 2, 3, 4], [0, 1, 2, 3, 4], [0, 1, 2, 3, 4], [0, 1, 2, 3, 4], [0, 1, 2, 3, 4]]\n"
          ]
        }
      ]
    },
    {
      "cell_type": "code",
      "source": [
        "# list comprehension\n",
        "matrix=[[j for j in range(5)] for i in range(5)]\n",
        "print(matrix)\n"
      ],
      "metadata": {
        "colab": {
          "base_uri": "https://localhost:8080/"
        },
        "id": "UYzh01rICFqu",
        "outputId": "217d886f-3043-4fbb-a7c9-9a661d2249ba"
      },
      "execution_count": null,
      "outputs": [
        {
          "output_type": "stream",
          "name": "stdout",
          "text": [
            "[[0, 1, 2, 3, 4], [0, 1, 2, 3, 4], [0, 1, 2, 3, 4], [0, 1, 2, 3, 4], [0, 1, 2, 3, 4]]\n"
          ]
        }
      ]
    },
    {
      "cell_type": "code",
      "source": [
        "# list unpacking\n",
        "matrix=[[1,2,3],[4,5],[6],[7,8,9,10]]\n",
        "new_matrix=[]\n",
        "for x in matrix:\n",
        "  for i in x:\n",
        "    new_matrix.append(i)\n",
        "print(new_matrix)"
      ],
      "metadata": {
        "colab": {
          "base_uri": "https://localhost:8080/"
        },
        "id": "52JEKJpWDFkj",
        "outputId": "e21ea8ca-7761-4fa6-be41-53e292de6871"
      },
      "execution_count": null,
      "outputs": [
        {
          "output_type": "stream",
          "name": "stdout",
          "text": [
            "[1, 2, 3, 4, 5, 6, 7, 8, 9, 10]\n"
          ]
        }
      ]
    },
    {
      "cell_type": "code",
      "source": [
        "# nested list comprehension\n",
        "new_matrix=[i for x in [[1,2,3],[4,5],[6],[7,8,9,10]] for i in x  ]\n",
        "print(new_matrix)"
      ],
      "metadata": {
        "colab": {
          "base_uri": "https://localhost:8080/"
        },
        "id": "oAzgZ2ptE5bb",
        "outputId": "5aaffa57-7761-44ac-f84e-1d684d4e32fa"
      },
      "execution_count": null,
      "outputs": [
        {
          "output_type": "stream",
          "name": "stdout",
          "text": [
            "[1, 2, 3, 4, 5, 6, 7, 8, 9, 10]\n"
          ]
        }
      ]
    },
    {
      "cell_type": "code",
      "source": [
        "\n",
        "# Suppose I want to flatten a given 2-D list and only include those strings whose lengths are less than 6:\n",
        "\n",
        "# planets = [[‘Mercury’, ‘Venus’, ‘Earth’], [‘Mars’, ‘Jupiter’, ‘Saturn’], [‘Uranus’, ‘Neptune’, ‘Pluto’]]\n",
        "\n",
        "planets = [[\"Mercury\", \"Venus\", \"Earth\"], [\"Mars\", \"Jupiter\", \"Saturn\"], [\"Uranus\", \"Neptune\", \"Pluto\"]]\n",
        "new_list=[]\n",
        "for sublist in planets:\n",
        "  for item in sublist:\n",
        "    if len(item)<6:\n",
        "      new_list.append(item)\n",
        "print(new_list)\n"
      ],
      "metadata": {
        "colab": {
          "base_uri": "https://localhost:8080/"
        },
        "id": "5BwSBw_5F4sn",
        "outputId": "8777d778-243b-47b0-daae-3a51c2ad25c1"
      },
      "execution_count": null,
      "outputs": [
        {
          "output_type": "stream",
          "name": "stdout",
          "text": [
            "['Venus', 'Earth', 'Mars', 'Pluto']\n"
          ]
        }
      ]
    },
    {
      "cell_type": "code",
      "source": [
        "# list comprehension\n",
        "planets = [[\"Mercury\", \"Venus\", \"Earth\"], [\"Mars\", \"Jupiter\", \"Saturn\"], [\"Uranus\", \"Neptune\", \"Pluto\"]]\n",
        "new_list=[item for sublist in planets for item in sublist if len(item)<6]\n",
        "print(new_list)"
      ],
      "metadata": {
        "colab": {
          "base_uri": "https://localhost:8080/"
        },
        "id": "LjOuRcAGJjVO",
        "outputId": "f0709d71-ba15-4516-bc27-032973ad1a1d"
      },
      "execution_count": null,
      "outputs": [
        {
          "output_type": "stream",
          "name": "stdout",
          "text": [
            "['Venus', 'Earth', 'Mars', 'Pluto']\n"
          ]
        }
      ]
    },
    {
      "cell_type": "code",
      "source": [
        "list1=[]\n",
        "final=[]\n",
        "for x in range(3):\n",
        "  for y in range(3):\n",
        "    for z in range(3):\n",
        "      if x+y+z!=2:\n",
        "        list1=[x,y,z]\n",
        "        final.append(list1)\n",
        "print(final)"
      ],
      "metadata": {
        "colab": {
          "base_uri": "https://localhost:8080/"
        },
        "id": "mVfPWgbGLunl",
        "outputId": "c563c396-bfc2-4b81-a891-37905cb79641"
      },
      "execution_count": null,
      "outputs": [
        {
          "output_type": "stream",
          "name": "stdout",
          "text": [
            "[[0, 0, 0], [0, 0, 1], [0, 1, 0], [0, 1, 2], [0, 2, 1], [0, 2, 2], [1, 0, 0], [1, 0, 2], [1, 1, 1], [1, 1, 2], [1, 2, 0], [1, 2, 1], [1, 2, 2], [2, 0, 1], [2, 0, 2], [2, 1, 0], [2, 1, 1], [2, 1, 2], [2, 2, 0], [2, 2, 1], [2, 2, 2]]\n"
          ]
        }
      ]
    },
    {
      "cell_type": "code",
      "source": [
        "list1=[]\n",
        "final=[[x,y,z] for x in range(3) for y in range(3) for z in range(3) if x+y+z!=2 ]\n",
        "print(final)"
      ],
      "metadata": {
        "colab": {
          "base_uri": "https://localhost:8080/"
        },
        "id": "heBel881Mpzx",
        "outputId": "757722ee-cc36-4c7a-d896-2a65574b4ad6"
      },
      "execution_count": null,
      "outputs": [
        {
          "output_type": "stream",
          "name": "stdout",
          "text": [
            "[[0, 0, 0], [0, 0, 1], [0, 1, 0], [0, 1, 2], [0, 2, 1], [0, 2, 2], [1, 0, 0], [1, 0, 2], [1, 1, 1], [1, 1, 2], [1, 2, 0], [1, 2, 1], [1, 2, 2], [2, 0, 1], [2, 0, 2], [2, 1, 0], [2, 1, 1], [2, 1, 2], [2, 2, 0], [2, 2, 1], [2, 2, 2]]\n"
          ]
        }
      ]
    },
    {
      "cell_type": "code",
      "source": [
        "list=[]\n",
        "final=[]\n",
        "for i in range(int(input())):\n",
        "  name = input()\n",
        "  score = float(input())\n",
        "  list=[name,score]\n",
        "  final.append(list)\n",
        "print(final)\n",
        "mark=[]\n",
        "for item in final:\n",
        "  mark.append(item[1])\n",
        "\n",
        "mark.sort()\n",
        "print(mark)\n",
        "word=[]\n",
        "print(mark[-2])\n",
        "for x in final:\n",
        "  if mark[-2] in x:\n",
        "    word.append(x[0])\n",
        "word.sort()\n",
        "for y in word:\n",
        "  print(y)\n",
        "  \n",
        "\n"
      ],
      "metadata": {
        "id": "OttZpv42aGfv"
      },
      "execution_count": null,
      "outputs": []
    }
  ]
}